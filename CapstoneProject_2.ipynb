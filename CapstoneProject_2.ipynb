{
    "cells": [
        {
            "cell_type": "markdown",
            "metadata": {},
            "source": "# Capstone Project"
        },
        {
            "cell_type": "markdown",
            "metadata": {
                "collapsed": true
            },
            "source": "## Rented Flats Analysis for different locations in Mumbai, along with exploration of near by Venues"
        },
        {
            "cell_type": "markdown",
            "metadata": {},
            "source": "### Introduction/Business Problem\n\n__Mumbai__ is the financial, commercial, and the entertainment capital of __India__. It is also one of the world's top ten centres of commerce in terms of global financial flow. The city houses important financial institutions and the corporate headquarters of numerous Indian companies and multinational corporations. It is also home to some of India's premier scientific and nuclear institutes. As a resident of this city, I decided to use Mumbai in my project. The city is divided into __8 regions__ in total (i.e. Central Mumbai, Thane District, Eastern Mumbai, Western Mumbai, South West Mumbai, South Mumbai, Harbour Lines, Navi Mumbai).\n\nBeing the center of Multiple institutions and companies, it is sometime required for people to move to Mumbai for personal and professional growth. People coming to this city are from different backgrounds, some have money to spend and some are coming to earn some money. Hence while searching for rented flats, they need to consider their financial capabilities, family size (if moving with family) and location of their work. After all these consideration, they can choose the area in their interested location and type of flats they wanted to stay.\n\nIn this project, we consider all these problems and we will try to find an optimal location and area to stay. We will create maps and information charts for different locations of Mumbai and each locations is clustered according to the venue categories. Advantages of each area will then be clearly expressed so that best possible final location can be chosen by stakeholders."
        },
        {
            "cell_type": "markdown",
            "metadata": {},
            "source": "### Data\n\nBased on definition of our problem, we can list the datas as below:\n\n-  __BeautifulSoup__ will be used to get the details of locations, its areas and price range of flats from _99acres_ website. Data is then cleaned and modified.\n    \n    \n-  __Nominatim from geopy.geocoders__ option will be used to get the center coordinates of the each areas. Since Nominatim sometime doesn't provide the correct coordinates, _Google Maps_ were used to filter and modify it.\n    \n    \n-  __Folium__ will be used to show coordinates, clusters and price ranges of different type of flat in Maps\n    \n    \n-  __Foursquare API__ will be used to get the most common venues of all the available areas of different Locations of Mumbai\n    \n    \n-  __K-Means__ clustering will be used to divide venues in different clusters\n    \n    \n-  __Bar Charts__ and __Histograms__ will be used to show the details of venues, clusters and prices\n"
        }
    ],
    "metadata": {
        "kernelspec": {
            "display_name": "Python 3.7",
            "language": "python",
            "name": "python3"
        },
        "language_info": {
            "codemirror_mode": {
                "name": "ipython",
                "version": 3
            },
            "file_extension": ".py",
            "mimetype": "text/x-python",
            "name": "python",
            "nbconvert_exporter": "python",
            "pygments_lexer": "ipython3",
            "version": "3.7.10"
        }
    },
    "nbformat": 4,
    "nbformat_minor": 1
}